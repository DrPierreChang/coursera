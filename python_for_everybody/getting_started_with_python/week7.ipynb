{
 "cells": [
  {
   "cell_type": "code",
   "execution_count": 4,
   "metadata": {
    "collapsed": true
   },
   "outputs": [
    {
     "name": "stdout",
     "output_type": "stream",
     "text": [
      "Before None\n",
      "9 9\n",
      "9 41\n",
      "9 12\n",
      "3 3\n",
      "3 74\n",
      "3 15\n",
      "After 3\n"
     ]
    }
   ],
   "source": [
    "# Finding smallest value\n",
    "smallest = None\n",
    "print('Before', smallest)\n",
    "for value in [9, 41, 12, 3, 74, 15]:\n",
    "    if smallest is None:\n",
    "        smallest = value\n",
    "    elif value < smallest:\n",
    "        smallest = value\n",
    "    print(smallest, value)\n",
    "print('After', smallest)"
   ]
  },
  {
   "cell_type": "code",
   "execution_count": 5,
   "outputs": [
    {
     "name": "stdout",
     "output_type": "stream",
     "text": [
      "Before None\n",
      "9 9\n",
      "41 41\n",
      "41 12\n",
      "41 3\n",
      "74 74\n",
      "74 15\n",
      "After 74\n"
     ]
    }
   ],
   "source": [
    "# Finding biggest value\n",
    "biggest = None\n",
    "print('Before', biggest)\n",
    "for value in [9, 41, 12, 3, 74, 15]:\n",
    "    if biggest is None:\n",
    "        biggest = value\n",
    "    elif value > biggest:\n",
    "        biggest = value\n",
    "    print(biggest, value)\n",
    "print('After', biggest)"
   ],
   "metadata": {
    "collapsed": false,
    "pycharm": {
     "name": "#%%\n"
    }
   }
  },
  {
   "cell_type": "code",
   "execution_count": 7,
   "outputs": [
    {
     "name": "stdout",
     "output_type": "stream",
     "text": [
      "0\n",
      "1\n",
      "2\n",
      "3\n",
      "4\n",
      "5\n",
      "What?\n"
     ]
    }
   ],
   "source": [
    "for i in range(10):\n",
    "    print(i)\n",
    "    if i == 5:\n",
    "        break\n",
    "print(\"What?\")"
   ],
   "metadata": {
    "collapsed": false,
    "pycharm": {
     "name": "#%%\n"
    }
   }
  }
 ],
 "metadata": {
  "kernelspec": {
   "display_name": "Python 3",
   "language": "python",
   "name": "python3"
  },
  "language_info": {
   "codemirror_mode": {
    "name": "ipython",
    "version": 2
   },
   "file_extension": ".py",
   "mimetype": "text/x-python",
   "name": "python",
   "nbconvert_exporter": "python",
   "pygments_lexer": "ipython2",
   "version": "2.7.6"
  }
 },
 "nbformat": 4,
 "nbformat_minor": 0
}