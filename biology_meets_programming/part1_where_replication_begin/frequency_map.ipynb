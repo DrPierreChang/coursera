{
 "cells": [
  {
   "cell_type": "code",
   "execution_count": 65,
   "id": "0f9952c9-178e-47ea-a65a-6b8ff626cc47",
   "metadata": {},
   "outputs": [
    {
     "name": "stdout",
     "output_type": "stream",
     "text": [
      "TCT 16\n",
      "CAT 16\n",
      "TTT 16\n"
     ]
    }
   ],
   "source": [
    "ori = \"\"\"ATCAATGATCAACGTAAGCTTCTAAGCATGATCAAGGTGCTCACACAG\n",
    "TTTATCCACAACCTGAGTGGATGACATCAAGATAGGTCGTTGTATCTCCTTCCTC\n",
    "TCGTACTCTCATGACCACGGAAAGATGATCAAGAGAGGATGATTTCTTGGCCATA\n",
    "TCGCAATGAATACTTGTGACTTGTGCTTCCAATTGACATCTTCAGCGCCATATTG\n",
    "CGCTGGCCAAGGTGACGGAGCGGGATTACGAAAGCATGATCATGGCTGTTGTTCT\n",
    "GTTTATCTTGTTTTGACTGAGACTTGTTAGGATAGACGGTTTTTCATCACTGACT\n",
    "AGCCAAAGCCTTACTCTGCCTGACATCGACCGTAAATTGATAATGAATTTACATG\n",
    "CTTCCGCGACGATTTACCTCTTGATCATCGATCCGATTGAAGATCTTCAATTGTT\n",
    "AATTCTCTTGCCTCGACTCATAGCCATGATGAGCTCTTGATCATGTTTCCTTAAC\n",
    "CCTCTATTTTTTACGGAAGAATGATCAAGCTGCTGCTCTTGATCATCGTTTC\"\"\"\n",
    "\n",
    "ori = \"\".join(i for i in ori if i.isalpha())\n",
    "\n",
    "\n",
    "k = 3\n",
    "\n",
    "most_frequent = dict()\n",
    "\n",
    "for i in range(0, len(ori)-k+1):\n",
    "    codon = ori[i:i+k]\n",
    "    most_frequent[codon] = most_frequent.get(codon, 0) + 1\n",
    "\n",
    "    \n",
    "max_value = most_frequent[max(most_frequent)]\n",
    "\n",
    "\n",
    "for key in most_frequent:\n",
    "    if most_frequent[key] == max_value:\n",
    "        print(key, most_frequent[key]) "
   ]
  }
 ],
 "metadata": {
  "kernelspec": {
   "display_name": "Python 3 (ipykernel)",
   "language": "python",
   "name": "python3"
  },
  "language_info": {
   "codemirror_mode": {
    "name": "ipython",
    "version": 3
   },
   "file_extension": ".py",
   "mimetype": "text/x-python",
   "name": "python",
   "nbconvert_exporter": "python",
   "pygments_lexer": "ipython3",
   "version": "3.10.0"
  }
 },
 "nbformat": 4,
 "nbformat_minor": 5
}
