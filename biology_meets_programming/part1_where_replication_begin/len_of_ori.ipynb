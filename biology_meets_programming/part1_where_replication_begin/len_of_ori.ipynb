{
 "cells": [
  {
   "cell_type": "markdown",
   "id": "97de0f77-3b49-4342-884e-6bd957d82d35",
   "metadata": {},
   "source": [
    "Exercise Break (1 point):\n",
    "\n",
    "Use what you have learned to print the length of the Vibrio cholerae ori, which is found [here.](https://bioinformaticsalgorithms.com/data/realdatasets/Replication/v_cholerae_oric.txt)\n",
    "\n",
    "You can see more directions when you click \"Start Solving\"; you have as many attempts to solve the problem as you like.\n",
    "\n",
    "Note: This exercise was created using Python 3; the Codecademy exercises use Python 2. They are largely very similar, but to print to the console in Python 3, we use the notation\n",
    "\n",
    "print(x)\n",
    "instead of\n",
    "\n",
    "print x\n",
    "\n",
    "Sample Input:\n",
    "```\n",
    "ACGTACGT\n",
    "```\n",
    "Sample Output:\n",
    "\n",
    "```\n",
    "8\n",
    "```"
   ]
  },
  {
   "cell_type": "code",
   "execution_count": 17,
   "id": "67f69ccb-221c-4459-a69f-bedf5bf9727a",
   "metadata": {},
   "outputs": [
    {
     "data": {
      "text/plain": [
       "546"
      ]
     },
     "execution_count": 17,
     "metadata": {},
     "output_type": "execute_result"
    }
   ],
   "source": [
    "ori = \"\"\"ATCAATGATCAACGTAAGCTTCTAAGCATGATCAAGGTGCTCACACAGTTTATCCACAACCTGAGTGGATGACA\n",
    "TCAAGATAGGTCGTTGTATCTCCTTCCTCTCGTACTCTCATGACCACGGAAAGATGATCAAGAGAGGATGATTTCTTGGCC\n",
    "ATATCGCAATGAATACTTGTGACTTGTGCTTCCAATTGACATCTTCAGCGCCATATTGCGCTGGCCAAGGTGACGGAGCGG\n",
    "GATTACGAAAGCATGATCATGGCTGTTGTTCTGTTTATCTTGTTTTGACTGAGACTTGTTAGGATAGACGGTTTTTCATCA\n",
    "CTGACTAGCCAAAGCCTTACTCTGCCTGACATCGACCGTAAATTGATAATGAATTTACATGCTTCCGCGACGATTTACCTC\n",
    "TTGATCATCGATCCGATTGAAGATCTTCAATTGTTAATTCTCTTGCCTCGACTCATAGCCATGATGAGCTCTTGATCATGT\n",
    "TTCCTTAACCCTCTATTTTTTACGGAAGAATGATCAAGCTGCTGCTCTTGATCATCGTTTC\"\"\"\n",
    "\n",
    "\n",
    "len(ori)"
   ]
  },
  {
   "cell_type": "code",
   "execution_count": 11,
   "id": "b996be80-50e6-4cf6-8244-b9ce713f96fd",
   "metadata": {},
   "outputs": [
    {
     "name": "stdout",
     "output_type": "stream",
     "text": [
      "G:  108\n",
      "T:  174\n",
      "C:  122\n",
      "A:  136\n"
     ]
    }
   ],
   "source": [
    "# frequency of nucleotides\n",
    "for i in {\"A\", \"G\", \"T\", \"C\"}:\n",
    "    print(f\"{i}: \", ori.count(i))"
   ]
  },
  {
   "cell_type": "code",
   "execution_count": 8,
   "id": "a99012b5-4ebf-46e8-b946-c3cf8f30de5a",
   "metadata": {},
   "outputs": [
    {
     "data": {
      "text/plain": [
       "3"
      ]
     },
     "execution_count": 8,
     "metadata": {},
     "output_type": "execute_result"
    }
   ],
   "source": [
    "# count ACTAT\n",
    "\"ACAACTATGCATACTATCGGGAACTATCCT\".count(\"ACTAT\")"
   ]
  },
  {
   "cell_type": "code",
   "execution_count": 25,
   "id": "cfd8e0f3-5126-45f1-8d54-201fc180b856",
   "metadata": {},
   "outputs": [
    {
     "name": "stdout",
     "output_type": "stream",
     "text": [
      "3\n",
      "3\n"
     ]
    }
   ],
   "source": [
    "# count pattern occurances in text with overlapping\n",
    "\n",
    "import re\n",
    "def pattern_count(pattern, text):\n",
    "    return len(re.findall(f\"(?={pattern})\", text))\n",
    "\n",
    "\n",
    "print(pattern_count('ATA', 'CGATATATCCATAG')) \n",
    "print(pattern_count('ACTAT', 'ACAACTATGCATACTATCGGGAACTATCCT')) "
   ]
  },
  {
   "cell_type": "code",
   "execution_count": 41,
   "id": "155e01e6-e509-417c-ad2b-819dec3bea90",
   "metadata": {},
   "outputs": [
    {
     "name": "stdout",
     "output_type": "stream",
     "text": [
      "3\n"
     ]
    }
   ],
   "source": [
    "cnt = 0\n",
    "text = 'CGATATATCCATAG'\n",
    "pattern = 'ATA'\n",
    "\n",
    "for i in range(0, len(text)-len(pattern)+1):\n",
    "    if (text[i:i+len(pattern)]) == pattern:\n",
    "        cnt +=1\n",
    "\n",
    "print(cnt)"
   ]
  },
  {
   "cell_type": "code",
   "execution_count": 37,
   "id": "fd0d42fe-5a18-40d8-9739-01ba3298fdfe",
   "metadata": {},
   "outputs": [
    {
     "name": "stdout",
     "output_type": "stream",
     "text": [
      "CGA\n",
      "GAT\n",
      "ATA\n",
      "TAT\n",
      "ATA\n",
      "TAT\n",
      "ATC\n",
      "TCC\n",
      "CCA\n",
      "CAT\n",
      "ATA\n",
      "TAG\n"
     ]
    }
   ],
   "source": [
    "for i in range(0, len(text)-len(pattern)+1):\n",
    "    print(text[i:i+len(pattern)])"
   ]
  }
 ],
 "metadata": {
  "kernelspec": {
   "display_name": "Python 3 (ipykernel)",
   "language": "python",
   "name": "python3"
  },
  "language_info": {
   "codemirror_mode": {
    "name": "ipython",
    "version": 3
   },
   "file_extension": ".py",
   "mimetype": "text/x-python",
   "name": "python",
   "nbconvert_exporter": "python",
   "pygments_lexer": "ipython3",
   "version": "3.10.0"
  }
 },
 "nbformat": 4,
 "nbformat_minor": 5
}
